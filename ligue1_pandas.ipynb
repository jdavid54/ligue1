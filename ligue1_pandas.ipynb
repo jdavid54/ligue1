{
 "cells": [
  {
   "cell_type": "code",
   "execution_count": 2,
   "metadata": {},
   "outputs": [],
   "source": [
    "#print(data,len(data))\n",
    "import numpy as np\n",
    "import pandas as pd\n",
    "import matplotlib.pyplot as plt"
   ]
  },
  {
   "cell_type": "code",
   "execution_count": 3,
   "metadata": {},
   "outputs": [
    {
     "name": "stdout",
     "output_type": "stream",
     "text": [
      "                            Club  Pts   J   G  N   P  Bp  Bc  Diff.  Pts/J  \\\n",
      "Position                                                                     \n",
      "1            Paris Saint-Germain   49  20  16  1   3  50  14     36   2.45   \n",
      "2         Olympique de Marseille   41  20  12  5   3  30  21      9   2.05   \n",
      "3               Stade Rennais FC   36  20  11  3   6  25  18      7   1.80   \n",
      "4                      FC Nantes   32  20  10  2   8  19  18      1   1.60   \n",
      "5                           LOSC   31  20   9  4   7  24  22      2   1.55   \n",
      "6         Montpellier Hérault SC   30  20   8  6   6  28  20      8   1.50   \n",
      "7             Olympique Lyonnais   29  20   8  5   7  31  19     12   1.45   \n",
      "8                 Stade de Reims   29  20   7  8   5  17  13      4   1.45   \n",
      "9                      AS Monaco   29  20   8  5   7  35  33      2   1.45   \n",
      "10                    Angers SCO   29  20   8  5   7  23  25     -2   1.45   \n",
      "11                      OGC Nice   28  20   8  4   8  29  28      1   1.40   \n",
      "12          RC Strasbourg Alsace   27  20   8  3   9  23  25     -2   1.35   \n",
      "13         Girondins de Bordeaux   26  20   7  5   8  29  24      5   1.30   \n",
      "14             Stade Brestois 29   25  20   6  7   7  26  26      0   1.25   \n",
      "15              AS Saint-Etienne   25  20   7  4   9  22  31     -9   1.25   \n",
      "16                     Dijon FCO   21  20   5  6   9  15  22     -7   1.05   \n",
      "17                       FC Metz   20  20   4  8   8  18  28    -10   1.00   \n",
      "18                     Amiens SC   18  20   4  6  10  23  39    -16   0.90   \n",
      "19               Nîmes Olympique   15  20   3  6  11  15  33    -18   0.75   \n",
      "20                   Toulouse FC   12  20   3  3  14  21  44    -23   0.60   \n",
      "\n",
      "          Bp/J  Bc/J  \n",
      "Position              \n",
      "1         2.50  0.70  \n",
      "2         1.50  1.05  \n",
      "3         1.25  0.90  \n",
      "4         0.95  0.90  \n",
      "5         1.20  1.10  \n",
      "6         1.40  1.00  \n",
      "7         1.55  0.95  \n",
      "8         0.85  0.65  \n",
      "9         1.75  1.65  \n",
      "10        1.15  1.25  \n",
      "11        1.45  1.40  \n",
      "12        1.15  1.25  \n",
      "13        1.45  1.20  \n",
      "14        1.30  1.30  \n",
      "15        1.10  1.55  \n",
      "16        0.75  1.10  \n",
      "17        0.90  1.40  \n",
      "18        1.15  1.95  \n",
      "19        0.75  1.65  \n",
      "20        1.05  2.20  \n"
     ]
    }
   ],
   "source": [
    "df = pd.read_csv('ligue1_csv')\n",
    "df.set_index('Position', drop=True, inplace=True)\n",
    "print(df)"
   ]
  },
  {
   "cell_type": "code",
   "execution_count": 4,
   "metadata": {},
   "outputs": [],
   "source": [
    "def moyVar(X):\n",
    "    n = len(X)\n",
    "    \n",
    "    if n==0:\n",
    "        return None\n",
    "    else:\n",
    "        s1, s2 = 0, 0\n",
    "        for x in X:\n",
    "            s1 = s1 + x\n",
    "            s2 = s2 + x*x\n",
    "        m = s1/n\n",
    "        v = s2/n - m**2\n",
    "        ve = v*n/(n-1)\n",
    "        e_type = np.sqrt(ve)\n",
    "        return m, v, ve, e_type   # moyenne, var, var empirique, ecart_type\n",
    "\n",
    "def moyVarP(X, N):\n",
    "    p1, p2 = len(X), len(N)\n",
    "    if p1==0 or p2 != p1:\n",
    "        return None\n",
    "    else:\n",
    "        s1, s2, n = 0, 0, 0\n",
    "        for k in range(1,p1):\n",
    "            n = n + N[k]\n",
    "            z = N[k]*X[k]\n",
    "            s1 = s1 + z\n",
    "            s2 = s2 + z*X[k]\n",
    "        m = s1/n\n",
    "        return m,s2/n - m**2\n",
    "\n",
    "def moyDist(X):\n",
    "    n = len(X)\n",
    "    moyenne, variance, ve, e_type = moyVar(X)\n",
    "    D = []\n",
    "    for x in X:\n",
    "        D.append(x-moyenne)\n",
    "    print(D)\n",
    "    D2 = [k**2 for k in D]\n",
    "    var = sum(D2)/(n-1)    # empirique\n",
    "    ecart_type = np.sqrt(var)\n",
    "    return var, variance, D, D2 , ecart_type"
   ]
  },
  {
   "cell_type": "code",
   "execution_count": 5,
   "metadata": {},
   "outputs": [
    {
     "name": "stdout",
     "output_type": "stream",
     "text": [
      "(27.6, 68.2399999999999, 71.83157894736831, 8.475351258052276)\n"
     ]
    }
   ],
   "source": [
    "print(moyVar(df.Pts))\n",
    "#print(moyVar(df['Pts/J']))\n",
    "#print(moyVarP(df.Pts,df['Pts/J']))"
   ]
  },
  {
   "cell_type": "code",
   "execution_count": 6,
   "metadata": {},
   "outputs": [
    {
     "name": "stdout",
     "output_type": "stream",
     "text": [
      "Pts (27.6, 68.2399999999999, 71.83157894736831, 8.475351258052276) 71.83157894736841\n",
      "J (20.0, 0.0, 0.0, 0.0) 0.0\n",
      "G (7.6, 9.440000000000005, 9.936842105263162, 3.15227570260965) 9.936842105263159\n",
      "N (4.8, 3.2600000000000016, 3.431578947368423, 1.8524521444205848) 3.431578947368421\n",
      "P (7.6, 6.039999999999999, 6.357894736842105, 2.5214866124653734) 6.3578947368421055\n",
      "Bp (25.15, 60.72750000000008, 63.923684210526396, 7.99522884041016) 63.92368421052631\n",
      "Bc (25.15, 59.92750000000012, 63.08157894736855, 7.942391261287028) 63.08157894736843\n",
      "Diff. (0.0, 151.6, 159.57894736842104, 12.632456109894902) 159.57894736842104\n",
      "Pts/J (1.3800000000000001, 0.17059999999999986, 0.17957894736842092, 0.423767562902614) 0.17957894736842103\n",
      "Bp/J (1.2574999999999998, 0.1518187500000001, 0.15980921052631591, 0.3997614420205079) 0.1598092105263158\n",
      "Bc/J (1.2574999999999998, 0.14981875000000033, 0.15770394736842142, 0.3971195630643515) 0.15770394736842108\n"
     ]
    }
   ],
   "source": [
    "for k in range(1,12):\n",
    "    print(df.columns[k],moyVar(df.iloc[:,k]),df.iloc[:,k].var())\n",
    "    "
   ]
  },
  {
   "cell_type": "code",
   "execution_count": 8,
   "metadata": {},
   "outputs": [],
   "source": [
    "#print(df[df.Pts>moyenne])\n",
    "#print(df[df.Pts<moyenne])"
   ]
  },
  {
   "cell_type": "code",
   "execution_count": 9,
   "metadata": {},
   "outputs": [
    {
     "data": {
      "image/png": "[encoded data removed]",
      "text/plain": [
       "<Figure size 432x288 with 1 Axes>"
      ]
     },
     "metadata": {
      "needs_background": "light"
     },
     "output_type": "display_data"
    }
   ],
   "source": [
    "l = len(df)\n",
    "x = np.arange(l)\n",
    "y = df.Pts\n",
    "moyenne,variance, ve, e_type = moyVar(y)\n",
    "plt.title('Stats Pts')\n",
    "plt.plot(x,y)\n",
    "plt.plot(x,np.ones(l)*moyenne,label='moyenne')    # df.mean()\n",
    "plt.plot(x,np.ones(l)*ve,label='variance')        # df.var()\n",
    "plt.plot(x,np.ones(l)*e_type,label='ecart-type')  # df.std()\n",
    "plt.grid()\n",
    "plt.legend()\n",
    "plt.show()"
   ]
  },
  {
   "cell_type": "code",
   "execution_count": 10,
   "metadata": {},
   "outputs": [
    {
     "name": "stdout",
     "output_type": "stream",
     "text": [
      "[21.4, 13.399999999999999, 8.399999999999999, 4.399999999999999, 3.3999999999999986, 2.3999999999999986, 1.3999999999999986, 1.3999999999999986, 1.3999999999999986, 1.3999999999999986, 0.3999999999999986, -0.6000000000000014, -1.6000000000000014, -2.6000000000000014, -2.6000000000000014, -6.600000000000001, -7.600000000000001, -9.600000000000001, -12.600000000000001, -15.600000000000001]\n"
     ]
    },
    {
     "data": {
      "image/png": "[encoded data removed]",
      "text/plain": [
       "<Figure size 432x288 with 1 Axes>"
      ]
     },
     "metadata": {
      "needs_background": "light"
     },
     "output_type": "display_data"
    }
   ],
   "source": [
    "v = moyDist(df.Pts)\n",
    "# var, variance, D, D2 , ecart_type\n",
    "plt.bar(x,v[2],label='(x-moyenne)')\n",
    "plt.bar(x,v[3], label='(x-moyenne)²')\n",
    "plt.title('Distance à la moyenne')\n",
    "plt.legend()\n",
    "plt.show()"
   ]
  },
  {
   "cell_type": "code",
   "execution_count": 13,
   "metadata": {},
   "outputs": [
    {
     "name": "stdout",
     "output_type": "stream",
     "text": [
      "Position\n",
      "1     49\n",
      "2     41\n",
      "3     36\n",
      "4     32\n",
      "5     31\n",
      "6     30\n",
      "7     29\n",
      "8     29\n",
      "9     29\n",
      "10    29\n",
      "11    28\n",
      "12    27\n",
      "13    26\n",
      "14    25\n",
      "15    25\n",
      "16    21\n",
      "17    20\n",
      "18    18\n",
      "19    15\n",
      "20    12\n",
      "Name: Pts, dtype: int64\n"
     ]
    },
    {
     "data": {
      "image/png": "[encoded data removed]",
      "text/plain": [
       "<Figure size 432x288 with 1 Axes>"
      ]
     },
     "metadata": {
      "needs_background": "light"
     },
     "output_type": "display_data"
    }
   ],
   "source": [
    "# répartition des points\n",
    "print(df.Pts)\n",
    "df.Pts.plot.hist()\n",
    "plt.title('Histogramme Pts')\n",
    "plt.show()"
   ]
  },
  {
   "cell_type": "code",
   "execution_count": 14,
   "metadata": {},
   "outputs": [
    {
     "data": {
      "image/png": "[encoded data removed]",
      "text/plain": [
       "<Figure size 432x288 with 1 Axes>"
      ]
     },
     "metadata": {
      "needs_background": "light"
     },
     "output_type": "display_data"
    }
   ],
   "source": [
    "df['Diff.'].plot.hist()\n",
    "plt.title('Histogramme Diff.')\n",
    "plt.show()"
   ]
  },
  {
   "cell_type": "code",
   "execution_count": 15,
   "metadata": {},
   "outputs": [
    {
     "data": {
      "image/png": "[encoded data removed]",
      "text/plain": [
       "<Figure size 432x288 with 1 Axes>"
      ]
     },
     "metadata": {
      "needs_background": "light"
     },
     "output_type": "display_data"
    }
   ],
   "source": [
    "df['Bp'].plot.hist()\n",
    "plt.title('Histogramme Bp')\n",
    "plt.show()"
   ]
  },
  {
   "cell_type": "code",
   "execution_count": 16,
   "metadata": {},
   "outputs": [
    {
     "name": "stdout",
     "output_type": "stream",
     "text": [
      "                            Club  Pts   J   G  N   P  Bp  Bc  Diff.\n",
      "Position                                                           \n",
      "20                   Toulouse FC   12  20   3  3  14  21  44    -23\n",
      "18                     Amiens SC   18  20   4  6  10  23  39    -16\n",
      "9                      AS Monaco   29  20   8  5   7  35  33      2\n",
      "19               Nîmes Olympique   15  20   3  6  11  15  33    -18\n",
      "15              AS Saint-Etienne   25  20   7  4   9  22  31     -9\n",
      "17                       FC Metz   20  20   4  8   8  18  28    -10\n",
      "11                      OGC Nice   28  20   8  4   8  29  28      1\n",
      "14             Stade Brestois 29   25  20   6  7   7  26  26      0\n",
      "10                    Angers SCO   29  20   8  5   7  23  25     -2\n",
      "12          RC Strasbourg Alsace   27  20   8  3   9  23  25     -2\n",
      "13         Girondins de Bordeaux   26  20   7  5   8  29  24      5\n",
      "16                     Dijon FCO   21  20   5  6   9  15  22     -7\n",
      "5                           LOSC   31  20   9  4   7  24  22      2\n",
      "2         Olympique de Marseille   41  20  12  5   3  30  21      9\n",
      "6         Montpellier Hérault SC   30  20   8  6   6  28  20      8\n",
      "7             Olympique Lyonnais   29  20   8  5   7  31  19     12\n",
      "4                      FC Nantes   32  20  10  2   8  19  18      1\n",
      "3               Stade Rennais FC   36  20  11  3   6  25  18      7\n",
      "1            Paris Saint-Germain   49  20  16  1   3  50  14     36\n",
      "8                 Stade de Reims   29  20   7  8   5  17  13      4\n",
      "                            Club  Pts   J   G  N   P  Bp  Bc  Diff.\n",
      "Position                                                           \n",
      "1            Paris Saint-Germain   49  20  16  1   3  50  14     36\n",
      "9                      AS Monaco   29  20   8  5   7  35  33      2\n",
      "7             Olympique Lyonnais   29  20   8  5   7  31  19     12\n",
      "2         Olympique de Marseille   41  20  12  5   3  30  21      9\n",
      "13         Girondins de Bordeaux   26  20   7  5   8  29  24      5\n",
      "11                      OGC Nice   28  20   8  4   8  29  28      1\n",
      "6         Montpellier Hérault SC   30  20   8  6   6  28  20      8\n",
      "14             Stade Brestois 29   25  20   6  7   7  26  26      0\n",
      "3               Stade Rennais FC   36  20  11  3   6  25  18      7\n",
      "5                           LOSC   31  20   9  4   7  24  22      2\n",
      "10                    Angers SCO   29  20   8  5   7  23  25     -2\n",
      "12          RC Strasbourg Alsace   27  20   8  3   9  23  25     -2\n",
      "18                     Amiens SC   18  20   4  6  10  23  39    -16\n",
      "15              AS Saint-Etienne   25  20   7  4   9  22  31     -9\n",
      "20                   Toulouse FC   12  20   3  3  14  21  44    -23\n",
      "4                      FC Nantes   32  20  10  2   8  19  18      1\n",
      "17                       FC Metz   20  20   4  8   8  18  28    -10\n",
      "8                 Stade de Reims   29  20   7  8   5  17  13      4\n",
      "16                     Dijon FCO   21  20   5  6   9  15  22     -7\n",
      "19               Nîmes Olympique   15  20   3  6  11  15  33    -18\n",
      "                            Club  Pts   J   G  N   P  Bp  Bc  Diff.\n",
      "Position                                                           \n",
      "1            Paris Saint-Germain   49  20  16  1   3  50  14     36\n",
      "7             Olympique Lyonnais   29  20   8  5   7  31  19     12\n",
      "2         Olympique de Marseille   41  20  12  5   3  30  21      9\n",
      "6         Montpellier Hérault SC   30  20   8  6   6  28  20      8\n",
      "3               Stade Rennais FC   36  20  11  3   6  25  18      7\n",
      "13         Girondins de Bordeaux   26  20   7  5   8  29  24      5\n",
      "8                 Stade de Reims   29  20   7  8   5  17  13      4\n",
      "5                           LOSC   31  20   9  4   7  24  22      2\n",
      "9                      AS Monaco   29  20   8  5   7  35  33      2\n",
      "11                      OGC Nice   28  20   8  4   8  29  28      1\n",
      "4                      FC Nantes   32  20  10  2   8  19  18      1\n",
      "14             Stade Brestois 29   25  20   6  7   7  26  26      0\n",
      "10                    Angers SCO   29  20   8  5   7  23  25     -2\n",
      "12          RC Strasbourg Alsace   27  20   8  3   9  23  25     -2\n",
      "16                     Dijon FCO   21  20   5  6   9  15  22     -7\n",
      "15              AS Saint-Etienne   25  20   7  4   9  22  31     -9\n",
      "17                       FC Metz   20  20   4  8   8  18  28    -10\n",
      "18                     Amiens SC   18  20   4  6  10  23  39    -16\n",
      "19               Nîmes Olympique   15  20   3  6  11  15  33    -18\n",
      "20                   Toulouse FC   12  20   3  3  14  21  44    -23\n"
     ]
    }
   ],
   "source": [
    "# classement par valeurs décroissantes de Bc,Bp, Diff.\n",
    "bc = df.sort_values('Bc',ascending=False)\n",
    "bp = df.sort_values('Bp',ascending=False)\n",
    "diff = df.sort_values('Diff.',ascending=False)\n",
    "print(bc.iloc[:,:9])\n",
    "print(bp.iloc[:,:9])\n",
    "print(diff.iloc[:,:9])"
   ]
  },
  {
   "cell_type": "code",
   "execution_count": 17,
   "metadata": {},
   "outputs": [
    {
     "data": {
      "image/png": "[encoded data removed]",
      "text/plain": [
       "<Figure size 432x288 with 1 Axes>"
      ]
     },
     "metadata": {
      "needs_background": "light"
     },
     "output_type": "display_data"
    }
   ],
   "source": [
    "df.plot.scatter(x='Pts', y='Bp')\n",
    "plt.title('Corrélation Pts/Buts pour')\n",
    "plt.show()"
   ]
  },
  {
   "cell_type": "code",
   "execution_count": 18,
   "metadata": {},
   "outputs": [
    {
     "data": {
      "image/png": "[encoded data removed]",
      "text/plain": [
       "<Figure size 432x288 with 1 Axes>"
      ]
     },
     "metadata": {
      "needs_background": "light"
     },
     "output_type": "display_data"
    }
   ],
   "source": [
    "df.plot.scatter(x='Pts', y='Diff.')\n",
    "plt.title('Corrélation Pts/Différence Buts')\n",
    "plt.show()"
   ]
  },
  {
   "cell_type": "code",
   "execution_count": 19,
   "metadata": {},
   "outputs": [
    {
     "data": {
      "image/png": "[encoded data removed]",
      "text/plain": [
       "<Figure size 432x288 with 1 Axes>"
      ]
     },
     "metadata": {
      "needs_background": "light"
     },
     "output_type": "display_data"
    }
   ],
   "source": [
    "df.plot.scatter(x='Pts', y='Bc')\n",
    "plt.title('Corrélation Pts/Buts contre')\n",
    "plt.show()"
   ]
  },
  {
   "cell_type": "code",
   "execution_count": 24,
   "metadata": {},
   "outputs": [
    {
     "data": {
      "text/plain": [
       "array([159.57894737,  99.        ])"
      ]
     },
     "execution_count": 24,
     "metadata": {},
     "output_type": "execute_result"
    }
   ],
   "source": [
    "X = df['Diff.']\n",
    "Y = df['Pts']\n",
    "corr = np.cov(X, Y)\n",
    "corr"
   ]
  },
  {
   "cell_type": "code",
   "execution_count": 25,
   "metadata": {},
   "outputs": [
    {
     "data": {
      "text/plain": [
       "0.9246762225234297"
      ]
     },
     "execution_count": 25,
     "metadata": {},
     "output_type": "execute_result"
    }
   ],
   "source": [
    "from scipy.stats import pearsonr, spearmanr\n",
    "corr, _ = pearsonr(X, Y)\n",
    "corr"
   ]
  },
  {
   "cell_type": "code",
   "execution_count": 26,
   "metadata": {},
   "outputs": [
    {
     "data": {
      "text/plain": [
       "0.8533674680333503"
      ]
     },
     "execution_count": 26,
     "metadata": {},
     "output_type": "execute_result"
    }
   ],
   "source": [
    "corr, _ = spearmanr(X, Y)\n",
    "corr"
   ]
  },
  {
   "cell_type": "code",
   "execution_count": 27,
   "metadata": {},
   "outputs": [
    {
     "data": {
      "text/plain": [
       "array([[63.92368421, 48.22105263],\n",
       "       [48.22105263, 71.83157895]])"
      ]
     },
     "execution_count": 27,
     "metadata": {},
     "output_type": "execute_result"
    }
   ],
   "source": [
    "X = df['Bp']\n",
    "Y = df['Pts']\n",
    "corr = np.cov(X, Y)\n",
    "corr"
   ]
  },
  {
   "cell_type": "code",
   "execution_count": 31,
   "metadata": {},
   "outputs": [
    {
     "data": {
      "text/plain": [
       "(0.7116198951014452, 0.00043366314257380735)"
      ]
     },
     "execution_count": 31,
     "metadata": {},
     "output_type": "execute_result"
    }
   ],
   "source": [
    "corr = pearsonr(X, Y)\n",
    "corr"
   ]
  },
  {
   "cell_type": "code",
   "execution_count": 30,
   "metadata": {},
   "outputs": [
    {
     "data": {
      "text/plain": [
       "SpearmanrResult(correlation=0.5554304301536794, pvalue=0.011008365950184635)"
      ]
     },
     "execution_count": 30,
     "metadata": {},
     "output_type": "execute_result"
    }
   ],
   "source": [
    "corr = spearmanr(X, Y)\n",
    "corr"
   ]
  },
  {
   "cell_type": "code",
   "execution_count": 32,
   "metadata": {},
   "outputs": [
    {
     "data": {
      "text/plain": [
       "array([[ 63.08157895, -50.77894737],\n",
       "       [-50.77894737,  71.83157895]])"
      ]
     },
     "execution_count": 32,
     "metadata": {},
     "output_type": "execute_result"
    }
   ],
   "source": [
    "X = df['Bc']\n",
    "Y = df['Pts']\n",
    "corr = np.cov(X, Y)\n",
    "corr"
   ]
  },
  {
   "cell_type": "code",
   "execution_count": 33,
   "metadata": {},
   "outputs": [
    {
     "data": {
      "text/plain": [
       "-0.7543531527298554"
      ]
     },
     "execution_count": 33,
     "metadata": {},
     "output_type": "execute_result"
    }
   ],
   "source": [
    "corr, _ = pearsonr(X, Y)\n",
    "corr"
   ]
  },
  {
   "cell_type": "code",
   "execution_count": 34,
   "metadata": {},
   "outputs": [
    {
     "data": {
      "text/plain": [
       "-0.7813938425234873"
      ]
     },
     "execution_count": 34,
     "metadata": {},
     "output_type": "execute_result"
    }
   ],
   "source": [
    "corr, _ = spearmanr(X, Y)\n",
    "corr"
   ]
  },
  {
   "cell_type": "code",
   "execution_count": null,
   "metadata": {},
   "outputs": [],
   "source": []
  }
 ],
 "metadata": {
  "kernelspec": {
   "display_name": "Python 3",
   "language": "python",
   "name": "python3"
  },
  "language_info": {
   "codemirror_mode": {
    "name": "ipython",
    "version": 3
   },
   "file_extension": ".py",
   "mimetype": "text/x-python",
   "name": "python",
   "nbconvert_exporter": "python",
   "pygments_lexer": "ipython3",
   "version": "3.7.3"
  }
 },
 "nbformat": 4,
 "nbformat_minor": 2
}
